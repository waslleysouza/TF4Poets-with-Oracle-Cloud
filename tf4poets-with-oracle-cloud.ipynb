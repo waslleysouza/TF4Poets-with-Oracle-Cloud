{
 "cells": [
  {
   "cell_type": "code",
   "execution_count": 25,
   "metadata": {},
   "outputs": [],
   "source": [
    "import subprocess, sys\n",
    "import opc\n",
    "from PIL import Image\n",
    "from io import BytesIO\n",
    "import os"
   ]
  },
  {
   "cell_type": "code",
   "execution_count": 26,
   "metadata": {
    "collapsed": true
   },
   "outputs": [],
   "source": [
    "# Tensorflow variables\n",
    "IMAGE_SIZE = 224\n",
    "ARCHITECTURE = \"mobilenet_0.50_\" + str(IMAGE_SIZE)\n",
    "\n",
    "# Storage variables\n",
    "CLOUD_FOLDER = \"flower_photos\"\n",
    "LOCAL_FOLDER = \"tf_files/\"\n",
    "extensionsToCheck = ('.jpg', '.png')"
   ]
  },
  {
   "cell_type": "code",
   "execution_count": 27,
   "metadata": {},
   "outputs": [],
   "source": [
    "def get_images():\n",
    "    print(\"Listing images from cloud folder...\")\n",
    "    _, cloud_files = opc_storage.show_container_details_and_list_objects(CLOUD_FOLDER)\n",
    "    # Filtering images\n",
    "    cloud_images = [ cloud_file for cloud_file in cloud_files if cloud_file.endswith(extensionsToCheck) ]\n",
    "    \n",
    "    print(\"Listing images from local folder...\")\n",
    "    local_images = []\n",
    "    for dirpath, _, filenames in os.walk(LOCAL_FOLDER + CLOUD_FOLDER):\n",
    "        for filename in filenames:\n",
    "            #local_images.append(dirpath + \"/\" + filename)\n",
    "            local_images.append(dirpath.replace(LOCAL_FOLDER, \"\").replace(\"\\\\\", \"/\") + \"/\" + filename)\n",
    "\n",
    "    # Verify Removed and Added images in the cloud\n",
    "    old_local_images = list(set(local_images) - set(cloud_images))\n",
    "    new_cloud_images = list(set(cloud_images) - set(local_images))\n",
    "    \n",
    "    # Remove old local images\n",
    "    if len(old_local_images) > 0:\n",
    "        count = 0\n",
    "        print(\"Removing\", len(old_local_images), \"file(s):\")\n",
    "        for old_local_image in old_local_images:\n",
    "            count += 1\n",
    "            print(count, \"-\", LOCAL_FOLDER + old_local_image, \"...\")\n",
    "            os.remove(LOCAL_FOLDER + old_local_image)\n",
    "            \n",
    "    # Download new cloud images\n",
    "    if len(new_cloud_images) > 0:\n",
    "        count = 0\n",
    "        print(\"Adding\", len(new_cloud_images), \"file(s):\")\n",
    "        for new_cloud_image in new_cloud_images:\n",
    "            directory = os.path.dirname(LOCAL_FOLDER + new_cloud_image)\n",
    "            if not os.path.exists(directory):\n",
    "                os.makedirs(directory)\n",
    "                print(\"Folder\", directory, \"created!\")                \n",
    "\n",
    "            count += 1\n",
    "            print(count, \"-\", LOCAL_FOLDER + new_cloud_image, \"...\")\n",
    "            _, file = opc_storage.get_object_content_and_metadata(CLOUD_FOLDER, new_cloud_image)\n",
    "            im = Image.open(BytesIO(file))\n",
    "            im.save(LOCAL_FOLDER + new_cloud_image)\n",
    "            \n",
    "    print(\"Done!\")"
   ]
  },
  {
   "cell_type": "code",
   "execution_count": 28,
   "metadata": {},
   "outputs": [
    {
     "name": "stdout",
     "output_type": "stream",
     "text": [
      "Listing images from cloud folder...\n",
      "Listing images from local folder...\n",
      "Done!\n"
     ]
    }
   ],
   "source": [
    "opc_storage = opc.Storage(\"waslley.souza@oracle.com\", \"CDfv@er55\", \"gse00014123\")\n",
    "get_images()"
   ]
  },
  {
   "cell_type": "code",
   "execution_count": 29,
   "metadata": {
    "collapsed": true
   },
   "outputs": [],
   "source": [
    "def execute(command):\n",
    "    process = subprocess.Popen(command, shell=True, stdout=subprocess.PIPE, stderr=subprocess.STDOUT)\n",
    "\n",
    "    # Poll process for new output until finished\n",
    "    while True:\n",
    "        nextline = process.stdout.readline()\n",
    "        if len(nextline) == 0 and process.poll() is not None:\n",
    "            break\n",
    "        sys.stdout.write(nextline)\n",
    "        sys.stdout.flush()\n",
    "\n",
    "    output = process.communicate()[0]\n",
    "    exitCode = process.returncode\n",
    "\n",
    "    if (exitCode == 0):\n",
    "        return output\n",
    "    else:\n",
    "        raise ProcessException(command, exitCode, output)"
   ]
  },
  {
   "cell_type": "code",
   "execution_count": 32,
   "metadata": {},
   "outputs": [
    {
     "name": "stdout",
     "output_type": "stream",
     "text": [
      "python scripts/retrain.py   --bottleneck_dir=tf_files/bottlenecks   --how_many_training_steps=10   --model_dir=tf_files/models/   --summaries_dir=tf_files/training_summaries/mobilenet_0.50_224   --output_graph=tf_files/retrained_graph.pb   --output_labels=tf_files/retrained_labels.txt   --architecture=mobilenet_0.50_224   --image_dir=tf_files/flower_photos\n"
     ]
    }
   ],
   "source": [
    "cmd = '''python scripts/retrain.py \\\n",
    "  --bottleneck_dir=tf_files/bottlenecks \\\n",
    "  --how_many_training_steps=10 \\\n",
    "  --model_dir=tf_files/models/ \\\n",
    "  --summaries_dir=tf_files/training_summaries/{ARCHITECTURE} \\\n",
    "  --output_graph=tf_files/retrained_graph.pb \\\n",
    "  --output_labels=tf_files/retrained_labels.txt \\\n",
    "  --architecture={ARCHITECTURE} \\\n",
    "  --image_dir=tf_files/flower_photos'''.format(ARCHITECTURE=ARCHITECTURE)\n",
    "\n",
    "print(cmd)\n",
    "# execute(cmd)"
   ]
  },
  {
   "cell_type": "code",
   "execution_count": 31,
   "metadata": {},
   "outputs": [
    {
     "name": "stdout",
     "output_type": "stream",
     "text": [
      "D:\\oracle\\apps\\anaconda3\\envs\\py36\\lib\\site-packages\\h5py\\__init__.py:36: FutureWarning: Conversion of the second argument of issubdtype from `float` to `np.floating` is deprecated. In future, it will be treated as `np.float64 == np.dtype(float).type`.\n",
      "  from ._conv import register_converters as _register_converters\n",
      "\n",
      "Evaluation time (1-image): 0.637s\n",
      "\n",
      "roses 0.79813194\n",
      "sunflowers 0.19288608\n",
      "daisy 0.0060700956\n",
      "dandelion 0.002060491\n",
      "tulips 0.0008513967\n",
      "2018-05-30 19:51:11.387639: I T:\\src\\github\\tensorflow\\tensorflow\\core\\platform\\cpu_feature_guard.cc:140] Your CPU supports instructions that this TensorFlow binary was not compiled to use: AVX2\n"
     ]
    },
    {
     "data": {
      "text/plain": [
       "b''"
      ]
     },
     "execution_count": 31,
     "metadata": {},
     "output_type": "execute_result"
    }
   ],
   "source": [
    "cmd = '''python scripts/label_image.py \\\n",
    "  --graph=tf_files/retrained_graph.pb  \\\n",
    "  --image=tf_files/flower_photos/daisy/21652746_cc379e0eea_m.jpg'''\n",
    "\n",
    "# print(cmd)\n",
    "execute(cmd)"
   ]
  },
  {
   "cell_type": "code",
   "execution_count": null,
   "metadata": {
    "collapsed": true
   },
   "outputs": [],
   "source": []
  }
 ],
 "metadata": {
  "kernelspec": {
   "display_name": "Python [conda env:py36]",
   "language": "python",
   "name": "conda-env-py36-py"
  },
  "language_info": {
   "codemirror_mode": {
    "name": "ipython",
    "version": 3
   },
   "file_extension": ".py",
   "mimetype": "text/x-python",
   "name": "python",
   "nbconvert_exporter": "python",
   "pygments_lexer": "ipython3",
   "version": "3.6.5"
  }
 },
 "nbformat": 4,
 "nbformat_minor": 2
}
