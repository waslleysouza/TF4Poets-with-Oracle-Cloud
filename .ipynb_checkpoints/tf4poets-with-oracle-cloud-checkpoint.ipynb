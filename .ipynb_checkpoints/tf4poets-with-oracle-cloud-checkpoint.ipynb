{
 "cells": [
  {
   "cell_type": "code",
   "execution_count": 1,
   "metadata": {},
   "outputs": [],
   "source": [
    "import subprocess, sys\n",
    "import opc\n",
    "from PIL import Image\n",
    "from io import BytesIO\n",
    "import os"
   ]
  },
  {
   "cell_type": "code",
   "execution_count": 2,
   "metadata": {
    "collapsed": true
   },
   "outputs": [],
   "source": [
    "# Tensorflow variables\n",
    "IMAGE_SIZE = 224\n",
    "ARCHITECTURE = \"mobilenet_0.50_\" + str(IMAGE_SIZE)\n",
    "\n",
    "# Storage variables\n",
    "CLOUD_FOLDER = \"flower_photos\"\n",
    "LOCAL_FOLDER = \"tf_files/\"\n",
    "extensionsToCheck = ('.jpg', '.png')"
   ]
  },
  {
   "cell_type": "code",
   "execution_count": 3,
   "metadata": {},
   "outputs": [],
   "source": [
    "def get_images():\n",
    "    print(\"Listing images from cloud folder...\")\n",
    "    _, cloud_files = opc_storage.show_container_details_and_list_objects(CLOUD_FOLDER)\n",
    "    # Filtering images\n",
    "    cloud_images = [ cloud_file for cloud_file in cloud_files if cloud_file.endswith(extensionsToCheck) ]\n",
    "    \n",
    "    print(\"Listing images from local folder...\")\n",
    "    local_images = []\n",
    "    for dirpath, _, filenames in os.walk(LOCAL_FOLDER + CLOUD_FOLDER):\n",
    "        for filename in filenames:\n",
    "            #local_images.append(dirpath + \"/\" + filename)\n",
    "            local_images.append(dirpath.replace(LOCAL_FOLDER, \"\").replace(\"\\\\\", \"/\") + \"/\" + filename)\n",
    "\n",
    "    # Verify Removed and Added images in the cloud\n",
    "    old_local_images = list(set(local_images) - set(cloud_images))\n",
    "    new_cloud_images = list(set(cloud_images) - set(local_images))\n",
    "    \n",
    "    # Remove old local images\n",
    "    if len(old_local_images) > 0:\n",
    "        count = 0\n",
    "        print(\"Removing\", len(old_local_images), \"file(s):\")\n",
    "        for old_local_image in old_local_images:\n",
    "            count += 1\n",
    "            print(count, \"-\", LOCAL_FOLDER + old_local_image, \"...\")\n",
    "            os.remove(LOCAL_FOLDER + old_local_image)\n",
    "            \n",
    "    # Download new cloud images\n",
    "    if len(new_cloud_images) > 0:\n",
    "        count = 0\n",
    "        print(\"Adding\", len(new_cloud_images), \"file(s):\")\n",
    "        for new_cloud_image in new_cloud_images:\n",
    "            directory = os.path.dirname(LOCAL_FOLDER + new_cloud_image)\n",
    "            if not os.path.exists(directory):\n",
    "                os.makedirs(directory)\n",
    "                print(\"Folder\", directory, \"created!\")                \n",
    "\n",
    "            count += 1\n",
    "            print(count, \"-\", LOCAL_FOLDER + new_cloud_image, \"...\")\n",
    "            _, file = opc_storage.get_object_content_and_metadata(CLOUD_FOLDER, new_cloud_image)\n",
    "            im = Image.open(BytesIO(file))\n",
    "            im.save(LOCAL_FOLDER + new_cloud_image)\n",
    "            \n",
    "    print(\"Done!\")"
   ]
  },
  {
   "cell_type": "code",
   "execution_count": 4,
   "metadata": {},
   "outputs": [
    {
     "name": "stdout",
     "output_type": "stream",
     "text": [
      "Listing images from cloud folder...\n",
      "Listing images from local folder...\n",
      "Done!\n"
     ]
    }
   ],
   "source": [
    "opc_storage = opc.Storage(\"waslley.souza@oracle.com\", \"CDfv@er55\", \"gse00014123\")\n",
    "get_images()"
   ]
  },
  {
   "cell_type": "code",
   "execution_count": 21,
   "metadata": {
    "collapsed": true
   },
   "outputs": [],
   "source": [
    "def execute(command):\n",
    "    process = subprocess.Popen(command, shell=True, stdout=subprocess.PIPE, stderr=subprocess.STDOUT)\n",
    "\n",
    "    # Poll process for new output until finished\n",
    "    while True:\n",
    "        nextline = process.stdout.readline()\n",
    "        if len(nextline) == 0 and process.poll() is not None:\n",
    "            break\n",
    "        sys.stdout.write(nextline)\n",
    "        sys.stdout.flush()\n",
    "\n",
    "    output = process.communicate()[0]\n",
    "    exitCode = process.returncode\n",
    "\n",
    "    if (exitCode == 0):\n",
    "        return output\n",
    "    else:\n",
    "        raise ProcessException(command, exitCode, output)"
   ]
  },
  {
   "cell_type": "code",
   "execution_count": 22,
   "metadata": {},
   "outputs": [
    {
     "name": "stdout",
     "output_type": "stream",
     "text": [
      "D:\\oracle\\apps\\anaconda3\\envs\\py36\\lib\\site-packages\\h5py\\__init__.py:36: FutureWarning: Conversion of the second argument of issubdtype from `float` to `np.floating` is deprecated. In future, it will be treated as `np.float64 == np.dtype(float).type`.\n",
      "  from ._conv import register_converters as _register_converters\n",
      "INFO:tensorflow:Looking for images in 'daisy'\n",
      "INFO:tensorflow:Looking for images in 'dandelion'\n",
      "INFO:tensorflow:Looking for images in 'roses'\n",
      "INFO:tensorflow:Looking for images in 'sunflowers'\n",
      "INFO:tensorflow:Looking for images in 'tulips'\n",
      "INFO:tensorflow:100 bottleneck files created.\n",
      "INFO:tensorflow:200 bottleneck files created.\n",
      "INFO:tensorflow:300 bottleneck files created.\n",
      "INFO:tensorflow:400 bottleneck files created.\n",
      "INFO:tensorflow:500 bottleneck files created.\n",
      "INFO:tensorflow:600 bottleneck files created.\n",
      "INFO:tensorflow:700 bottleneck files created.\n",
      "INFO:tensorflow:800 bottleneck files created.\n",
      "INFO:tensorflow:900 bottleneck files created.\n",
      "INFO:tensorflow:1000 bottleneck files created.\n",
      "INFO:tensorflow:1100 bottleneck files created.\n",
      "INFO:tensorflow:1200 bottleneck files created.\n",
      "INFO:tensorflow:1300 bottleneck files created.\n",
      "INFO:tensorflow:1400 bottleneck files created.\n",
      "INFO:tensorflow:1500 bottleneck files created.\n",
      "INFO:tensorflow:1600 bottleneck files created.\n",
      "INFO:tensorflow:1700 bottleneck files created.\n",
      "INFO:tensorflow:1800 bottleneck files created.\n",
      "INFO:tensorflow:1900 bottleneck files created.\n",
      "INFO:tensorflow:2000 bottleneck files created.\n",
      "INFO:tensorflow:2100 bottleneck files created.\n",
      "INFO:tensorflow:2200 bottleneck files created.\n",
      "INFO:tensorflow:2300 bottleneck files created.\n",
      "INFO:tensorflow:2400 bottleneck files created.\n",
      "INFO:tensorflow:2500 bottleneck files created.\n",
      "INFO:tensorflow:2600 bottleneck files created.\n",
      "INFO:tensorflow:2700 bottleneck files created.\n",
      "INFO:tensorflow:2800 bottleneck files created.\n",
      "INFO:tensorflow:2900 bottleneck files created.\n",
      "INFO:tensorflow:3000 bottleneck files created.\n",
      "INFO:tensorflow:3100 bottleneck files created.\n",
      "INFO:tensorflow:3200 bottleneck files created.\n",
      "INFO:tensorflow:3300 bottleneck files created.\n",
      "INFO:tensorflow:3400 bottleneck files created.\n",
      "INFO:tensorflow:3500 bottleneck files created.\n",
      "INFO:tensorflow:3600 bottleneck files created.\n",
      "INFO:tensorflow:3700 bottleneck files created.\n",
      "INFO:tensorflow:3800 bottleneck files created.\n",
      "INFO:tensorflow:3900 bottleneck files created.\n",
      "INFO:tensorflow:4000 bottleneck files created.\n",
      "INFO:tensorflow:4100 bottleneck files created.\n",
      "INFO:tensorflow:4200 bottleneck files created.\n",
      "INFO:tensorflow:4300 bottleneck files created.\n",
      "INFO:tensorflow:4400 bottleneck files created.\n",
      "INFO:tensorflow:4500 bottleneck files created.\n",
      "INFO:tensorflow:4600 bottleneck files created.\n",
      "INFO:tensorflow:4700 bottleneck files created.\n",
      "INFO:tensorflow:4800 bottleneck files created.\n",
      "INFO:tensorflow:4900 bottleneck files created.\n",
      "INFO:tensorflow:5000 bottleneck files created.\n",
      "INFO:tensorflow:5100 bottleneck files created.\n",
      "INFO:tensorflow:5200 bottleneck files created.\n",
      "INFO:tensorflow:5300 bottleneck files created.\n",
      "INFO:tensorflow:5400 bottleneck files created.\n",
      "INFO:tensorflow:5500 bottleneck files created.\n",
      "INFO:tensorflow:5600 bottleneck files created.\n",
      "INFO:tensorflow:5700 bottleneck files created.\n",
      "INFO:tensorflow:5800 bottleneck files created.\n",
      "INFO:tensorflow:5900 bottleneck files created.\n",
      "INFO:tensorflow:6000 bottleneck files created.\n",
      "INFO:tensorflow:6100 bottleneck files created.\n",
      "INFO:tensorflow:6200 bottleneck files created.\n",
      "INFO:tensorflow:6300 bottleneck files created.\n",
      "INFO:tensorflow:6400 bottleneck files created.\n",
      "INFO:tensorflow:6500 bottleneck files created.\n",
      "INFO:tensorflow:6600 bottleneck files created.\n",
      "INFO:tensorflow:6700 bottleneck files created.\n",
      "INFO:tensorflow:6800 bottleneck files created.\n",
      "INFO:tensorflow:6900 bottleneck files created.\n",
      "INFO:tensorflow:7000 bottleneck files created.\n",
      "INFO:tensorflow:7100 bottleneck files created.\n",
      "INFO:tensorflow:7200 bottleneck files created.\n",
      "INFO:tensorflow:7300 bottleneck files created.\n",
      "WARNING:tensorflow:From scripts/retrain.py:790: softmax_cross_entropy_with_logits (from tensorflow.python.ops.nn_ops) is deprecated and will be removed in a future version.\n",
      "Instructions for updating:\n",
      "\n",
      "Future major versions of TensorFlow will allow gradients to flow\n",
      "into the labels input on backprop by default.\n",
      "\n",
      "See tf.nn.softmax_cross_entropy_with_logits_v2.\n",
      "\n",
      "INFO:tensorflow:2018-05-30 19:36:43.141421: Step 0: Train accuracy = 48.0%\n",
      "INFO:tensorflow:2018-05-30 19:36:43.141421: Step 0: Cross entropy = 1.290917\n",
      "INFO:tensorflow:2018-05-30 19:36:43.653451: Step 0: Validation accuracy = 41.0% (N=100)\n",
      "INFO:tensorflow:2018-05-30 19:36:46.187596: Step 9: Train accuracy = 70.0%\n",
      "INFO:tensorflow:2018-05-30 19:36:46.188596: Step 9: Cross entropy = 3.682732\n",
      "INFO:tensorflow:2018-05-30 19:36:46.487613: Step 9: Validation accuracy = 59.0% (N=100)\n",
      "INFO:tensorflow:Final test accuracy = 59.9% (N=664)\n",
      "INFO:tensorflow:Froze 2 variables.\n",
      "Converted 2 variables to const ops.\n",
      "2018-05-30 19:36:20.359118: I T:\\src\\github\\tensorflow\\tensorflow\\core\\platform\\cpu_feature_guard.cc:140] Your CPU supports instructions that this TensorFlow binary was not compiled to use: AVX2\n"
     ]
    },
    {
     "ename": "KeyboardInterrupt",
     "evalue": "",
     "output_type": "error",
     "traceback": [
      "\u001b[1;31m---------------------------------------------------------------------------\u001b[0m",
      "\u001b[1;31mKeyboardInterrupt\u001b[0m                         Traceback (most recent call last)",
      "\u001b[1;32m<ipython-input-22-ebb31c39ca36>\u001b[0m in \u001b[0;36m<module>\u001b[1;34m()\u001b[0m\n\u001b[0;32m      2\u001b[0m \u001b[1;33m\u001b[0m\u001b[0m\n\u001b[0;32m      3\u001b[0m \u001b[1;31m# print(cmd)\u001b[0m\u001b[1;33m\u001b[0m\u001b[1;33m\u001b[0m\u001b[0m\n\u001b[1;32m----> 4\u001b[1;33m \u001b[0mexecute\u001b[0m\u001b[1;33m(\u001b[0m\u001b[0mcmd\u001b[0m\u001b[1;33m)\u001b[0m\u001b[1;33m\u001b[0m\u001b[0m\n\u001b[0m",
      "\u001b[1;32m<ipython-input-21-a2a5e421f344>\u001b[0m in \u001b[0;36mexecute\u001b[1;34m(command)\u001b[0m\n\u001b[0;32m      8\u001b[0m             \u001b[1;32mbreak\u001b[0m\u001b[1;33m\u001b[0m\u001b[0m\n\u001b[0;32m      9\u001b[0m         \u001b[0msys\u001b[0m\u001b[1;33m.\u001b[0m\u001b[0mstdout\u001b[0m\u001b[1;33m.\u001b[0m\u001b[0mwrite\u001b[0m\u001b[1;33m(\u001b[0m\u001b[0mnextline\u001b[0m\u001b[1;33m)\u001b[0m\u001b[1;33m\u001b[0m\u001b[0m\n\u001b[1;32m---> 10\u001b[1;33m         \u001b[0msys\u001b[0m\u001b[1;33m.\u001b[0m\u001b[0mstdout\u001b[0m\u001b[1;33m.\u001b[0m\u001b[0mflush\u001b[0m\u001b[1;33m(\u001b[0m\u001b[1;33m)\u001b[0m\u001b[1;33m\u001b[0m\u001b[0m\n\u001b[0m\u001b[0;32m     11\u001b[0m \u001b[1;33m\u001b[0m\u001b[0m\n\u001b[0;32m     12\u001b[0m     \u001b[0moutput\u001b[0m \u001b[1;33m=\u001b[0m \u001b[0mprocess\u001b[0m\u001b[1;33m.\u001b[0m\u001b[0mcommunicate\u001b[0m\u001b[1;33m(\u001b[0m\u001b[1;33m)\u001b[0m\u001b[1;33m[\u001b[0m\u001b[1;36m0\u001b[0m\u001b[1;33m]\u001b[0m\u001b[1;33m\u001b[0m\u001b[0m\n",
      "\u001b[1;32mD:\\oracle\\apps\\anaconda3\\envs\\py36\\lib\\site-packages\\ipykernel\\iostream.py\u001b[0m in \u001b[0;36mflush\u001b[1;34m(self)\u001b[0m\n\u001b[0;32m    332\u001b[0m         \u001b[1;32mif\u001b[0m \u001b[0mself\u001b[0m\u001b[1;33m.\u001b[0m\u001b[0mpub_thread\u001b[0m\u001b[1;33m.\u001b[0m\u001b[0mthread\u001b[0m\u001b[1;33m.\u001b[0m\u001b[0mis_alive\u001b[0m\u001b[1;33m(\u001b[0m\u001b[1;33m)\u001b[0m\u001b[1;33m:\u001b[0m\u001b[1;33m\u001b[0m\u001b[0m\n\u001b[0;32m    333\u001b[0m             \u001b[1;31m# request flush on the background thread\u001b[0m\u001b[1;33m\u001b[0m\u001b[1;33m\u001b[0m\u001b[0m\n\u001b[1;32m--> 334\u001b[1;33m             \u001b[0mself\u001b[0m\u001b[1;33m.\u001b[0m\u001b[0mpub_thread\u001b[0m\u001b[1;33m.\u001b[0m\u001b[0mschedule\u001b[0m\u001b[1;33m(\u001b[0m\u001b[0mself\u001b[0m\u001b[1;33m.\u001b[0m\u001b[0m_flush\u001b[0m\u001b[1;33m)\u001b[0m\u001b[1;33m\u001b[0m\u001b[0m\n\u001b[0m\u001b[0;32m    335\u001b[0m             \u001b[1;31m# wait for flush to actually get through, if we can.\u001b[0m\u001b[1;33m\u001b[0m\u001b[1;33m\u001b[0m\u001b[0m\n\u001b[0;32m    336\u001b[0m             \u001b[1;31m# waiting across threads during import can cause deadlocks\u001b[0m\u001b[1;33m\u001b[0m\u001b[1;33m\u001b[0m\u001b[0m\n",
      "\u001b[1;32mD:\\oracle\\apps\\anaconda3\\envs\\py36\\lib\\site-packages\\ipykernel\\iostream.py\u001b[0m in \u001b[0;36mschedule\u001b[1;34m(self, f)\u001b[0m\n\u001b[0;32m    201\u001b[0m             \u001b[0mself\u001b[0m\u001b[1;33m.\u001b[0m\u001b[0m_events\u001b[0m\u001b[1;33m.\u001b[0m\u001b[0mappend\u001b[0m\u001b[1;33m(\u001b[0m\u001b[0mf\u001b[0m\u001b[1;33m)\u001b[0m\u001b[1;33m\u001b[0m\u001b[0m\n\u001b[0;32m    202\u001b[0m             \u001b[1;31m# wake event thread (message content is ignored)\u001b[0m\u001b[1;33m\u001b[0m\u001b[1;33m\u001b[0m\u001b[0m\n\u001b[1;32m--> 203\u001b[1;33m             \u001b[0mself\u001b[0m\u001b[1;33m.\u001b[0m\u001b[0m_event_pipe\u001b[0m\u001b[1;33m.\u001b[0m\u001b[0msend\u001b[0m\u001b[1;33m(\u001b[0m\u001b[1;34mb''\u001b[0m\u001b[1;33m)\u001b[0m\u001b[1;33m\u001b[0m\u001b[0m\n\u001b[0m\u001b[0;32m    204\u001b[0m         \u001b[1;32melse\u001b[0m\u001b[1;33m:\u001b[0m\u001b[1;33m\u001b[0m\u001b[0m\n\u001b[0;32m    205\u001b[0m             \u001b[0mf\u001b[0m\u001b[1;33m(\u001b[0m\u001b[1;33m)\u001b[0m\u001b[1;33m\u001b[0m\u001b[0m\n",
      "\u001b[1;32mD:\\oracle\\apps\\anaconda3\\envs\\py36\\lib\\site-packages\\zmq\\sugar\\socket.py\u001b[0m in \u001b[0;36msend\u001b[1;34m(self, data, flags, copy, track, routing_id, group)\u001b[0m\n\u001b[0;32m    389\u001b[0m                                  copy_threshold=self.copy_threshold)\n\u001b[0;32m    390\u001b[0m             \u001b[0mdata\u001b[0m\u001b[1;33m.\u001b[0m\u001b[0mgroup\u001b[0m \u001b[1;33m=\u001b[0m \u001b[0mgroup\u001b[0m\u001b[1;33m\u001b[0m\u001b[0m\n\u001b[1;32m--> 391\u001b[1;33m         \u001b[1;32mreturn\u001b[0m \u001b[0msuper\u001b[0m\u001b[1;33m(\u001b[0m\u001b[0mSocket\u001b[0m\u001b[1;33m,\u001b[0m \u001b[0mself\u001b[0m\u001b[1;33m)\u001b[0m\u001b[1;33m.\u001b[0m\u001b[0msend\u001b[0m\u001b[1;33m(\u001b[0m\u001b[0mdata\u001b[0m\u001b[1;33m,\u001b[0m \u001b[0mflags\u001b[0m\u001b[1;33m=\u001b[0m\u001b[0mflags\u001b[0m\u001b[1;33m,\u001b[0m \u001b[0mcopy\u001b[0m\u001b[1;33m=\u001b[0m\u001b[0mcopy\u001b[0m\u001b[1;33m,\u001b[0m \u001b[0mtrack\u001b[0m\u001b[1;33m=\u001b[0m\u001b[0mtrack\u001b[0m\u001b[1;33m)\u001b[0m\u001b[1;33m\u001b[0m\u001b[0m\n\u001b[0m\u001b[0;32m    392\u001b[0m \u001b[1;33m\u001b[0m\u001b[0m\n\u001b[0;32m    393\u001b[0m     \u001b[1;32mdef\u001b[0m \u001b[0msend_multipart\u001b[0m\u001b[1;33m(\u001b[0m\u001b[0mself\u001b[0m\u001b[1;33m,\u001b[0m \u001b[0mmsg_parts\u001b[0m\u001b[1;33m,\u001b[0m \u001b[0mflags\u001b[0m\u001b[1;33m=\u001b[0m\u001b[1;36m0\u001b[0m\u001b[1;33m,\u001b[0m \u001b[0mcopy\u001b[0m\u001b[1;33m=\u001b[0m\u001b[1;32mTrue\u001b[0m\u001b[1;33m,\u001b[0m \u001b[0mtrack\u001b[0m\u001b[1;33m=\u001b[0m\u001b[1;32mFalse\u001b[0m\u001b[1;33m,\u001b[0m \u001b[1;33m**\u001b[0m\u001b[0mkwargs\u001b[0m\u001b[1;33m)\u001b[0m\u001b[1;33m:\u001b[0m\u001b[1;33m\u001b[0m\u001b[0m\n",
      "\u001b[1;32mzmq\\backend\\cython\\socket.pyx\u001b[0m in \u001b[0;36mzmq.backend.cython.socket.Socket.send\u001b[1;34m()\u001b[0m\n",
      "\u001b[1;32mzmq\\backend\\cython\\socket.pyx\u001b[0m in \u001b[0;36mzmq.backend.cython.socket.Socket.send\u001b[1;34m()\u001b[0m\n",
      "\u001b[1;32mzmq\\backend\\cython\\socket.pyx\u001b[0m in \u001b[0;36mzmq.backend.cython.socket._send_copy\u001b[1;34m()\u001b[0m\n",
      "\u001b[1;32mD:\\oracle\\apps\\anaconda3\\envs\\py36\\lib\\site-packages\\zmq\\backend\\cython\\checkrc.pxd\u001b[0m in \u001b[0;36mzmq.backend.cython.checkrc._check_rc\u001b[1;34m()\u001b[0m\n",
      "\u001b[1;31mKeyboardInterrupt\u001b[0m: "
     ]
    }
   ],
   "source": [
    "cmd = '''python scripts/retrain.py \\\n",
    "  --bottleneck_dir=tf_files/bottlenecks \\\n",
    "  --how_many_training_steps=10 \\\n",
    "  --model_dir=tf_files/models/ \\\n",
    "  --summaries_dir=tf_files/training_summaries/{ARCHITECTURE} \\\n",
    "  --output_graph=tf_files/retrained_graph.pb \\\n",
    "  --output_labels=tf_files/retrained_labels.txt \\\n",
    "  --architecture={ARCHITECTURE} \\\n",
    "  --image_dir=tf_files/flower_photos'''.format(ARCHITECTURE=ARCHITECTURE)\n",
    "\n",
    "# print(cmd)\n",
    "execute(cmd)"
   ]
  },
  {
   "cell_type": "code",
   "execution_count": null,
   "metadata": {
    "collapsed": true
   },
   "outputs": [],
   "source": []
  }
 ],
 "metadata": {
  "kernelspec": {
   "display_name": "Python [conda env:py36]",
   "language": "python",
   "name": "conda-env-py36-py"
  },
  "language_info": {
   "codemirror_mode": {
    "name": "ipython",
    "version": 3
   },
   "file_extension": ".py",
   "mimetype": "text/x-python",
   "name": "python",
   "nbconvert_exporter": "python",
   "pygments_lexer": "ipython3",
   "version": "3.6.5"
  }
 },
 "nbformat": 4,
 "nbformat_minor": 2
}
